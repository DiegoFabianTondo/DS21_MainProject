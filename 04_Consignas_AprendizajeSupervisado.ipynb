{
  "nbformat": 4,
  "nbformat_minor": 0,
  "metadata": {
    "colab": {
      "name": "Consigna_AprendizajeSupervisado.ipynb",
      "provenance": [],
      "collapsed_sections": []
    },
    "kernelspec": {
      "name": "python3",
      "display_name": "Python 3"
    },
    "language_info": {
      "name": "python"
    }
  },
  "cells": [
    {
      "cell_type": "markdown",
      "metadata": {
        "id": "dyOYckTdm6QQ"
      },
      "source": [
        "# **GAP: Aprendizaje Supervisado**\n",
        "\n",
        "## **INTRODUCCIÓN**\n",
        "Continuando con el práctico anterior, se deberá entrenar un modelo que considere la descomposición de la serie temporal de sólo un sitio seleccionado y se deberán validar sus resultados respecto de los valores reales en el tiempo. Se deberá presentar un informe explicando los criterios de selección del modelo, de sus parámetros, de las métricas de evaluación seleccionadas y los resultados.\n",
        "\n",
        "## **CONSIGNA**\n",
        "### **1. General**\n",
        "En esta sección del proyecto se pretende que el equipo de trabajo: \n",
        "* Comprenda cómo se compone la serie temporal.\n",
        "* Entrene un modelo de aprendizaje supervisado que considere las features necesarias para tener en cuenta la composición de la serie. \n",
        "* Valide el modelo entre los valores estimados y los reales de una sección de la serie temporal para validación. \n",
        "\n",
        "Con este práctico el equipo podrá mejorar el modelo agregando features o cambiando de modelos.\n",
        "\n",
        "### **2. Objetivos dentro del proyecto**\n",
        "\n",
        "1. Seleccionar los datos de entrenamiento y validación de sólo un sitio.\n",
        "1. Visualizar las componentes de la serie temporal.\n",
        "1. Seleccionar un modelo que considere las componentes de la serie. Seleccionar las features mas adecuadas para poder hacer un forecasting de inventarios de un producto por hora. Entrenar el modelo. \n",
        "1. Validar el modelo entre los valores estimados para diferentes horas y los valores medidos. \n",
        "\n",
        "### **3. Objetivos de Aprendizaje** \n",
        "* Entender la descomposición clásica de series temorales.\n",
        "* Seleccionar un modelo que logre mejorar los resultados de estimación.\n",
        "* Validar el modelo.\n",
        "* Proponer otras alternativas y comparar. \n",
        "* Seleccionar el modelo de un primer prototipo.\n",
        "\n",
        "### **4. Requerimientos y Preguntas Obligatorias**\n",
        "Crear un modelo para forecasting de nivel de inventario de un producto en un sitio determinado. \n",
        "\n",
        "1. Seleccionar 1 sitios/producto donde se probará el modelo. Justificar la selección. \n",
        "1. Armar un esquema de selección de datos para entrenamiento y validación. Justificar el esquema.\n",
        "1. Realizar un análisis de descomposición de la serie temporal.\n",
        "1. Seleccionar un modelo y justificar su selección.\n",
        "1. Seleccionar features para el objetivo del forecasting y revisar si será necesario un procesamiento matemático pre/post predict para llegar a la variable que se desea estimar. \n",
        "1. Realizar el predict.\n",
        "1. Seleccionar las métricas de validación que crean mas convenientes. Justificar. \n",
        "1. Validar el modelo y ajustar de una serie de iteraciones para lograr un objetivo definido por ustedes.\n",
        "1. Probar otros modelos y comparar. \n",
        "1. Seleccionar un modelo y features para un primer prototipo de campo.\n",
        "\n",
        "*Análisis Requerido:*\n",
        "1. Cómo está compuesta la serie temporal?. Graficar.\n",
        "1. Cuál puede ser las mejores features que les permitan estimar el nivel de inventario de un rango de horas/días considerando la descomposición de la serie. \n",
        "1. Cuál es el modelo que mas podría funcionar para estimar en diferentes rangos de tiempo?\n",
        "1. **Seleccionar un modelo para implementar como primer prototipo de campo. Justificar y comentar sobre las limitaciones, tanto de los datos que se requieren como de su ejecución.**\n",
        "\n",
        "### **6. Entregable**\n",
        "\n",
        "1. Análsis de la Serie temporal por descomposición.\n",
        "1. Selección de Features.\n",
        "1. Comparación de Modelos. \n",
        "1. **Informe técnico en formato de presentación**, de no más de 8-slides, con los resultados y conclusiones. Esta presentación es la que mostrarán en el video. \n",
        "\n",
        "**Fecha de entrega: 19/10/2021**\n",
        "\n",
        "## **REFERENCIAS**\n",
        "1. [DiploDatos Análisis de Series Temporales](https://github.com/DiploDatos/AnalisisSeriesTemporales)\n",
        "\n"
      ]
    }
  ]
}
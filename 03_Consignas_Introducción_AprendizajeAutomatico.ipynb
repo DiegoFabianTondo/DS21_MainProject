{
  "nbformat": 4,
  "nbformat_minor": 0,
  "metadata": {
    "colab": {
      "name": "Consigna_Introducción_AprendizajeAutomático.ipynb",
      "provenance": [],
      "collapsed_sections": []
    },
    "kernelspec": {
      "name": "python3",
      "display_name": "Python 3"
    },
    "language_info": {
      "name": "python"
    }
  },
  "cells": [
    {
      "cell_type": "markdown",
      "metadata": {
        "id": "dyOYckTdm6QQ"
      },
      "source": [
        "# **GAP: INTRODUCCION AL APRENDIZAJE AUTOMATICO**\n",
        "\n",
        "## **INTRODUCCIÓN**\n",
        "Habiendo realizado curación, agrupación y feature engineering basico sobre el dataset, en este práctico buscaremos entrenar un primer modelo regresivo de forecasting. Se deberá entrenar el modelo con datos de un sitio seleccionado y validar sus resultados respecto de los valores reales en el tiempo. Se deberá presentar un informe explicando los criterios de selección del modelo, de sus parámetros, de las métricas de evaluación seleccionadas y los resultados.\n",
        "\n",
        "## **CONSIGNA**\n",
        "### **1. General**\n",
        "En esta sección del proyecto se pretende que el equipo de trabajo: \n",
        "* Entrene un modelo regresivo de aprendizaje supervisado, basado en una sección de una serie temporal de mediciones.\n",
        "* Valide el modelo entre los valores estimados y los reales de una sección de la serie temporal para validación. \n",
        "\n",
        "Con este práctico el equipo podrá recorrer el camino completo de entrenamiento y validación de un modelo simple de regresión. Dejando de lado todas las consideraciones profundas para lograr un modelo mas eficiente.\n",
        "\n",
        "### **2. Objetivos dentro del proyecto**\n",
        "\n",
        "1. Seleccionar los datos de entrenamiento y validación. \n",
        "1. Seleccionar un modelo de regresión. Comprender la variable de entrada y de salida. Seleccionar las features mas adecuadas para poder hacer un forecasting de inventarios de un producto por hora. Entrenar el modelo. \n",
        "1. Validar el modelo entre los valores estimados para diferentes horas y los valores medidos. \n",
        "\n",
        "### **3. Objetivos de Aprendizaje** \n",
        "* Entender la lógica de los procesos de aprendizaje supervisado. \n",
        "* Seleccionar un modelo regresivo que logre dar resultados estimados en tiempo.\n",
        "* Validar el modelo.\n",
        "* Proponer las mejoras necesarias para lograr alcanzar un buen nivel de efectividad del modelo. \n",
        "\n",
        "### **4. Requerimientos y Preguntas Obligatorias**\n",
        "Crear un modelo regresivo para forecasting de nivel de inventario de un producto en un sitio por unidad de tiempo. \n",
        "\n",
        "1. Seleccionar 5 sitios/producto donde se probará el modelo. Justificar la selección. \n",
        "1. Armar un esquema de selección de datos para entrenamiento y validación. Justificar el esquema.\n",
        "1. Seleccionar un modelo regresivo y justificar su selección.\n",
        "1. Seleccionar features para el objetivo del forecasting y revisar si será necesario un procesamiento matemático pre/post predict para llegar a la variable que se desea estimar. \n",
        "1. Ordenar los datos para poder realizar el fit del modelo. \n",
        "1. Realizar el predict de una serie de datos temporales.\n",
        "1. Seleccionar las métricas de validación que crean mas convenientes. Justificar. \n",
        "1. Validar el modelo y ajustar de una serie de iteraciones para lograr un objetivo definido por ustedes. \n",
        "\n",
        "*Análisis Requerido:*\n",
        "1. Cuál puede ser la mejor feature que les permita estimar el nivel de inventario de un rango de horas/días?. Cuáles son las premisas que deben aceptar para que las features sirvan?.\n",
        "1. Cuál es el modelo regresivo que mas podría funcionar para estimar en ese rango de tiempo?.\n",
        "1. **Volvemos a hacernos esta pregunta: se va a implementar UN MODELO POR CENTRO OPERATIVO o UN MODELO PARA TODOS LOS CENTROS OPERATIVOS CON HIPERPARÁMETROS?**\n",
        "1. **Volvemos a hacernos esta pregunta: Se va a implementar una predicción de algún momento deseado, o se hará una predicción continua en el tiempo, o se hará una predicción de tiempo en el que habría cierto volumen de inventario?**\n",
        "1. Informar sobre las consideraciones que deberán ser tenidas en cuenta en los próximos modelos para mejorar su performance. \n",
        "\n",
        "### **5. Requerimientos y Preguntas Adicionales**\n",
        "Quedan pendientes los requerimientos adicionales de los prácticos anteriores:\n",
        "1. Realizar un análisis por descomposición de series temporales (tendencia, temporalidad, estacionalidad). Graficar. Analizar el comportamiento. \n",
        "1. Realizar un análisis de los consumos por descomposición de series temporales (tendencia, temporalidad, estacionalidad). Graficar. Analizar el comportamiento. Qué relación hay respecto del análsis de manejos de inventarios.\n",
        "\n",
        "*Conclusiones adicionales:* Qué diferencia podría haber en las estimaciones realizadas por métodos de análisis por descomposición respecto de las estimaciones mas simples de regresión?. \n",
        "\n",
        "### **6. Entregable**\n",
        "\n",
        "1. Modelo regresivo entrenado.\n",
        "1. **Informe técnico en formato de presentación**, de no más de 7-slides, con los resultados y conclusiones. Deberán proponer una idea de los próximos pasos para alcanzar el objetivo del proyecto. Anexar link a las notebooks de trabajo.\n",
        "\n",
        "**Fecha de entrega: 30/08/2021**\n",
        "\n",
        "## **REFERENCIAS**\n",
        "1. [Usando Sci-Kit Learn](https://towardsdatascience.com/time-series-modeling-using-scikit-pandas-and-numpy-682e3b8db8d1)\n",
        "\n"
      ]
    },
    {
      "cell_type": "code",
      "metadata": {
        "id": "S62bxOLmGVoM"
      },
      "source": [
        ""
      ],
      "execution_count": null,
      "outputs": []
    }
  ]
}
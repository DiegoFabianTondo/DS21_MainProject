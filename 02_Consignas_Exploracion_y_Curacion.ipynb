{
  "nbformat": 4,
  "nbformat_minor": 0,
  "metadata": {
    "colab": {
      "name": "01_Consignas_Exploracion_y_Curacion.ipynb",
      "provenance": [],
      "collapsed_sections": []
    },
    "kernelspec": {
      "name": "python3",
      "display_name": "Python 3"
    },
    "language_info": {
      "name": "python"
    }
  },
  "cells": [
    {
      "cell_type": "markdown",
      "metadata": {
        "id": "dyOYckTdm6QQ"
      },
      "source": [
        "# **GAP: EXPLORACIÓN Y CURACIÓN DE DATOS**\n",
        "\n",
        "## **INTRODUCCIÓN**\n",
        "Habiendo tomado sensibilidad del dataset y ciertos criterios del dominio para decidir sobre curaciones y posibles imputaciones, en este práctico deberemos aplicar algunas de las herramientas ya utilizadas para generar un dataset listo para comenzar a jugar con matrices y modelos en los próximos prácticos. Por otro lado, se deberan presentar conclusiones y conceptos sobre los posibles caminos para solucionar el objetivo del proyecto. \n",
        "\n",
        "\n",
        "## **CONSIGNA**\n",
        "### **1. General**\n",
        "En esta sección del proyecto se pretende que el equipo de trabajo: \n",
        "* Aplique las herramientas de curación e imputación para generar un nuevo dataset en un formato de archivo que guarde tipos y contenga las features que se utilizarán para resolver el problema.\n",
        "* Presente conclusiones y conceptos sobre la manera en que se va a abordar la solución del proyecto.\n",
        "\n",
        "Con práctico el equipo podrá comenzar el camino de selección de un modelo de forecasting que permita estimar los inventarios de un centro operativo.\n",
        "\n",
        "### **2. Objetivos dentro del proyecto**\n",
        "\n",
        "1. Generar un dataset apto y útil para comenzar a probar manejo de matrices y diferentes modelos de forecasting en los próximos prácticos. \n",
        "1. Tener claridad sobre los conceptos y metodologías que se usarán para abordar la solución del proyecto. \n",
        "\n",
        "### **3. Objetivos de Aprendizaje** \n",
        "* Usar las herramientas de curación y entornos de trabajo.\n",
        "* Buscar simplificar conceptos y entender el camino que se aplicará sin perder el objetivo principal del proyecto.\n",
        "* Comunicar las ideas de lo que se pretende hacer en los próximos pasos. \n",
        "\n",
        "### **4. Requerimientos y Preguntas Obligatorias**\n",
        "Generar y guardar un nuevo dataset que tenga los resultados de curación e imputación, que permita su importación considerando tipos y facilitando las diferentes pruebas que se harán posteriormente:\n",
        "\n",
        "*Manipulación requerida de Datos:*\n",
        "1. Descartar mediciones erróneas de acuerdo a los criterios utilizados en el práctico anterior. Informar cuáles fueron los centros operativos con información errónea. \n",
        "1. Descartar Outliers de acuerdo a los criterios utilizados en el práctico anterior. Informar cuáles fueron los centros operativos con outliers. \n",
        "1. Descartar centros operativos que tengan información faltante por mas de 24hs en las últimas 2 semanas del dataset. Informar cuáles son los centros operativos descartados.\n",
        "1. Samplear para uniformar timestamp, utilzando el criterio de backfill.\n",
        "1. Agrupar el 'volumen' de inventarios por producto de cada centro operativo.\n",
        "1. Escalar el 'volumen' de acuerdo a la capacidad total de almacenamiento disponible del mismo producto en el centro operativo. En caso de datos erróneos en la capacidad, inputar con el máximo volumen de inventario. \n",
        "1. Descartar todas las columnas que no agregen información necesaria para realizar forecasting de los inventarios del producto en el centro operativo.\n",
        "1. Agregar una nueva columna que contenga las variaciones de inventarios por unidad de tiempo entre puntos sucesivos del historial (derivada primera).\n",
        "1. Guardar el Dataset en formato pickle. \n",
        "1. Levantar el DS y graficar las últimas semanas de inventarios de algunes centros operativos de manera aleatoria. \n",
        "\n",
        "*Análisis Requerido:*\n",
        "1. Es mejor imputar o ignorar valores faltantes?\n",
        "1. Es mejor analizar las series temporales de inventarios durante períodos largos o simplemente analizar las últimas horas de inventarios?.\n",
        "1. Hay alguna utilidad en conocer los descriptores de los inventarios y los consumos de acuerdo a los segmentos de mercado?\n",
        "1. **Se va a implementar UN MODELO POR CENTRO OPERATIVO o UN MODELO PARA TODOS LOS CENTROS OPERATIVOS CON HIPERPARÁMETROS?**\n",
        "1. **Se va a implementar una predicción de algún momento deseado, o se hará una predicción continua en el tiempo, o se hará una predicción de tiempo en el que habría cierto volumen de inventario?**\n",
        "\n",
        "### **5. Requerimientos y Preguntas Adicionales**\n",
        "1. Realizar un análsis por descomposición de series temporales (tendencia, temporalidad, estacionalidad). Graficar. Analizar el comportamiento. \n",
        "1. Realizar un análsis de los consumos por descomposición de series temporales (tendencia, temporalidad, estacionalidad). Graficar. Analizar el comportamiento. Qué relación hay respecto del análsis de manejos de inventarios.\n",
        "\n",
        "*Conclusiones adicionales:* Qué diferencia podría haber en las estimaciones realizadas por métodos de análisis por descomposición respecto de estimaciones mas simples como una regresión lineal?. \n",
        "\n",
        "### **6. Entregable**\n",
        "\n",
        "1. **Informe técnico en formato de presentación tipo slides**, de no más de 7-slides, con los resultados y conclusiones, principalmente proponiendo próximos pasos de la solución. Se deberá anexas link a las notebooks de trabajo.\n",
        "1. Dataset curado en formato pickle que deberán utilizar en los próximos prácticos. \n",
        "\n",
        "\n",
        "**Fecha de entrega: 11/07/2021**\n",
        "\n",
        "## **REFERENCIAS**\n",
        "1. [Conceptos y ejemplos de un proyecto similar](https://machinelearningmastery.com/how-to-develop-machine-learning-models-for-multivariate-multi-step-air-pollution-time-series-forecasting/)\n",
        "\n"
      ]
    },
    {
      "cell_type": "code",
      "metadata": {
        "id": "hjI4CthMELy0"
      },
      "source": [
        ""
      ],
      "execution_count": null,
      "outputs": []
    }
  ]
}